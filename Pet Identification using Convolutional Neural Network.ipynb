{
 "cells": [
  {
   "cell_type": "code",
   "execution_count": 1,
   "metadata": {},
   "outputs": [
    {
     "name": "stderr",
     "output_type": "stream",
     "text": [
      "Using TensorFlow backend.\n",
      "C:\\Users\\Admin\\anaconda3\\lib\\site-packages\\tensorflow\\python\\framework\\dtypes.py:516: FutureWarning: Passing (type, 1) or '1type' as a synonym of type is deprecated; in a future version of numpy, it will be understood as (type, (1,)) / '(1,)type'.\n",
      "  _np_qint8 = np.dtype([(\"qint8\", np.int8, 1)])\n",
      "C:\\Users\\Admin\\anaconda3\\lib\\site-packages\\tensorflow\\python\\framework\\dtypes.py:517: FutureWarning: Passing (type, 1) or '1type' as a synonym of type is deprecated; in a future version of numpy, it will be understood as (type, (1,)) / '(1,)type'.\n",
      "  _np_quint8 = np.dtype([(\"quint8\", np.uint8, 1)])\n",
      "C:\\Users\\Admin\\anaconda3\\lib\\site-packages\\tensorflow\\python\\framework\\dtypes.py:518: FutureWarning: Passing (type, 1) or '1type' as a synonym of type is deprecated; in a future version of numpy, it will be understood as (type, (1,)) / '(1,)type'.\n",
      "  _np_qint16 = np.dtype([(\"qint16\", np.int16, 1)])\n",
      "C:\\Users\\Admin\\anaconda3\\lib\\site-packages\\tensorflow\\python\\framework\\dtypes.py:519: FutureWarning: Passing (type, 1) or '1type' as a synonym of type is deprecated; in a future version of numpy, it will be understood as (type, (1,)) / '(1,)type'.\n",
      "  _np_quint16 = np.dtype([(\"quint16\", np.uint16, 1)])\n",
      "C:\\Users\\Admin\\anaconda3\\lib\\site-packages\\tensorflow\\python\\framework\\dtypes.py:520: FutureWarning: Passing (type, 1) or '1type' as a synonym of type is deprecated; in a future version of numpy, it will be understood as (type, (1,)) / '(1,)type'.\n",
      "  _np_qint32 = np.dtype([(\"qint32\", np.int32, 1)])\n",
      "C:\\Users\\Admin\\anaconda3\\lib\\site-packages\\tensorflow\\python\\framework\\dtypes.py:525: FutureWarning: Passing (type, 1) or '1type' as a synonym of type is deprecated; in a future version of numpy, it will be understood as (type, (1,)) / '(1,)type'.\n",
      "  np_resource = np.dtype([(\"resource\", np.ubyte, 1)])\n",
      "C:\\Users\\Admin\\anaconda3\\lib\\site-packages\\tensorboard\\compat\\tensorflow_stub\\dtypes.py:541: FutureWarning: Passing (type, 1) or '1type' as a synonym of type is deprecated; in a future version of numpy, it will be understood as (type, (1,)) / '(1,)type'.\n",
      "  _np_qint8 = np.dtype([(\"qint8\", np.int8, 1)])\n",
      "C:\\Users\\Admin\\anaconda3\\lib\\site-packages\\tensorboard\\compat\\tensorflow_stub\\dtypes.py:542: FutureWarning: Passing (type, 1) or '1type' as a synonym of type is deprecated; in a future version of numpy, it will be understood as (type, (1,)) / '(1,)type'.\n",
      "  _np_quint8 = np.dtype([(\"quint8\", np.uint8, 1)])\n",
      "C:\\Users\\Admin\\anaconda3\\lib\\site-packages\\tensorboard\\compat\\tensorflow_stub\\dtypes.py:543: FutureWarning: Passing (type, 1) or '1type' as a synonym of type is deprecated; in a future version of numpy, it will be understood as (type, (1,)) / '(1,)type'.\n",
      "  _np_qint16 = np.dtype([(\"qint16\", np.int16, 1)])\n",
      "C:\\Users\\Admin\\anaconda3\\lib\\site-packages\\tensorboard\\compat\\tensorflow_stub\\dtypes.py:544: FutureWarning: Passing (type, 1) or '1type' as a synonym of type is deprecated; in a future version of numpy, it will be understood as (type, (1,)) / '(1,)type'.\n",
      "  _np_quint16 = np.dtype([(\"quint16\", np.uint16, 1)])\n",
      "C:\\Users\\Admin\\anaconda3\\lib\\site-packages\\tensorboard\\compat\\tensorflow_stub\\dtypes.py:545: FutureWarning: Passing (type, 1) or '1type' as a synonym of type is deprecated; in a future version of numpy, it will be understood as (type, (1,)) / '(1,)type'.\n",
      "  _np_qint32 = np.dtype([(\"qint32\", np.int32, 1)])\n",
      "C:\\Users\\Admin\\anaconda3\\lib\\site-packages\\tensorboard\\compat\\tensorflow_stub\\dtypes.py:550: FutureWarning: Passing (type, 1) or '1type' as a synonym of type is deprecated; in a future version of numpy, it will be understood as (type, (1,)) / '(1,)type'.\n",
      "  np_resource = np.dtype([(\"resource\", np.ubyte, 1)])\n"
     ]
    }
   ],
   "source": [
    "import keras"
   ]
  },
  {
   "cell_type": "code",
   "execution_count": 2,
   "metadata": {},
   "outputs": [],
   "source": [
    "import PIL"
   ]
  },
  {
   "cell_type": "code",
   "execution_count": 3,
   "metadata": {},
   "outputs": [],
   "source": [
    "from keras.layers import Conv2D\n",
    "from keras.layers import MaxPooling2D\n",
    "from keras.layers import Flatten\n",
    "from keras.layers import Dense, Dropout"
   ]
  },
  {
   "cell_type": "code",
   "execution_count": 4,
   "metadata": {},
   "outputs": [],
   "source": [
    "#Initializing the CNN\n",
    "model = keras.Sequential()"
   ]
  },
  {
   "cell_type": "code",
   "execution_count": 5,
   "metadata": {},
   "outputs": [],
   "source": [
    "#Step 1: Convolution\n",
    "model.add(Conv2D(32, (3,3), input_shape = (64,64,3), activation = \"relu\"))"
   ]
  },
  {
   "cell_type": "code",
   "execution_count": 6,
   "metadata": {
    "scrolled": true
   },
   "outputs": [
    {
     "name": "stdout",
     "output_type": "stream",
     "text": [
      "WARNING:tensorflow:From C:\\Users\\Admin\\anaconda3\\lib\\site-packages\\keras\\backend\\tensorflow_backend.py:4070: The name tf.nn.max_pool is deprecated. Please use tf.nn.max_pool2d instead.\n",
      "\n"
     ]
    }
   ],
   "source": [
    "#Step 2: MaxPooling\n",
    "model.add(MaxPooling2D(pool_size=(2,2)))"
   ]
  },
  {
   "cell_type": "code",
   "execution_count": 7,
   "metadata": {},
   "outputs": [],
   "source": [
    "#Adding another Convolution to improve the accuracy of model\n",
    "model.add(Conv2D(32, (3,3), activation = \"relu\"))\n",
    "model.add(MaxPooling2D(pool_size=(2,2)))"
   ]
  },
  {
   "cell_type": "code",
   "execution_count": 8,
   "metadata": {},
   "outputs": [],
   "source": [
    "#Step 3: Flattening\n",
    "model.add(Flatten())"
   ]
  },
  {
   "cell_type": "code",
   "execution_count": 9,
   "metadata": {},
   "outputs": [
    {
     "name": "stdout",
     "output_type": "stream",
     "text": [
      "WARNING:tensorflow:Large dropout rate: 0.6 (>0.5). In TensorFlow 2.x, dropout() uses dropout rate instead of keep_prob. Please ensure that this is intended.\n"
     ]
    }
   ],
   "source": [
    "#Step 4: Full Connection\n",
    "model.add(Dense(units = 128, activation = \"relu\"))\n",
    "model.add(Dropout(0.6))\n",
    "model.add(Dense(units = 64, activation = \"relu\"))\n",
    "model.add(Dropout(0.3))\n",
    "model.add(Dense(units = 1, activation = \"sigmoid\"))\n"
   ]
  },
  {
   "cell_type": "code",
   "execution_count": 10,
   "metadata": {},
   "outputs": [
    {
     "name": "stdout",
     "output_type": "stream",
     "text": [
      "Model: \"sequential_1\"\n",
      "_________________________________________________________________\n",
      "Layer (type)                 Output Shape              Param #   \n",
      "=================================================================\n",
      "conv2d_1 (Conv2D)            (None, 62, 62, 32)        896       \n",
      "_________________________________________________________________\n",
      "max_pooling2d_1 (MaxPooling2 (None, 31, 31, 32)        0         \n",
      "_________________________________________________________________\n",
      "conv2d_2 (Conv2D)            (None, 29, 29, 32)        9248      \n",
      "_________________________________________________________________\n",
      "max_pooling2d_2 (MaxPooling2 (None, 14, 14, 32)        0         \n",
      "_________________________________________________________________\n",
      "flatten_1 (Flatten)          (None, 6272)              0         \n",
      "_________________________________________________________________\n",
      "dense_1 (Dense)              (None, 128)               802944    \n",
      "_________________________________________________________________\n",
      "dropout_1 (Dropout)          (None, 128)               0         \n",
      "_________________________________________________________________\n",
      "dense_2 (Dense)              (None, 64)                8256      \n",
      "_________________________________________________________________\n",
      "dropout_2 (Dropout)          (None, 64)                0         \n",
      "_________________________________________________________________\n",
      "dense_3 (Dense)              (None, 1)                 65        \n",
      "=================================================================\n",
      "Total params: 821,409\n",
      "Trainable params: 821,409\n",
      "Non-trainable params: 0\n",
      "_________________________________________________________________\n"
     ]
    }
   ],
   "source": [
    "model.summary()"
   ]
  },
  {
   "cell_type": "code",
   "execution_count": 11,
   "metadata": {},
   "outputs": [
    {
     "name": "stdout",
     "output_type": "stream",
     "text": [
      "WARNING:tensorflow:From C:\\Users\\Admin\\anaconda3\\lib\\site-packages\\tensorflow\\python\\ops\\nn_impl.py:180: add_dispatch_support.<locals>.wrapper (from tensorflow.python.ops.array_ops) is deprecated and will be removed in a future version.\n",
      "Instructions for updating:\n",
      "Use tf.where in 2.0, which has the same broadcast rule as np.where\n"
     ]
    }
   ],
   "source": [
    "#Compiling the model\n",
    "model.compile(optimizer = \"adam\", loss = \"binary_crossentropy\", metrics = [\"accuracy\"])"
   ]
  },
  {
   "cell_type": "code",
   "execution_count": 12,
   "metadata": {},
   "outputs": [],
   "source": [
    "#Preprocessing the data\n",
    "from keras.preprocessing.image import ImageDataGenerator"
   ]
  },
  {
   "cell_type": "code",
   "execution_count": 13,
   "metadata": {},
   "outputs": [],
   "source": [
    "training_datagen = ImageDataGenerator(rescale = 1/255, shear_range = 0.2, zoom_range = 0.2, horizontal_flip = True)"
   ]
  },
  {
   "cell_type": "code",
   "execution_count": 14,
   "metadata": {},
   "outputs": [],
   "source": [
    "testing_datagen = ImageDataGenerator(rescale = 1/255)"
   ]
  },
  {
   "cell_type": "code",
   "execution_count": 15,
   "metadata": {},
   "outputs": [
    {
     "name": "stdout",
     "output_type": "stream",
     "text": [
      "Found 19998 images belonging to 2 classes.\n"
     ]
    }
   ],
   "source": [
    "training_set = training_datagen.flow_from_directory(\"Desktop/Training_Dataset\", target_size = (64,64), batch_size = 32,\n",
    "                                                    class_mode = \"binary\")"
   ]
  },
  {
   "cell_type": "code",
   "execution_count": 16,
   "metadata": {},
   "outputs": [
    {
     "name": "stdout",
     "output_type": "stream",
     "text": [
      "Found 2880 images belonging to 2 classes.\n"
     ]
    }
   ],
   "source": [
    "testing_set = training_datagen.flow_from_directory(\"Desktop/Testing_Dataset\", target_size = (64,64), batch_size = 32,\n",
    "                                                    class_mode = \"binary\")"
   ]
  },
  {
   "cell_type": "code",
   "execution_count": 23,
   "metadata": {},
   "outputs": [
    {
     "name": "stdout",
     "output_type": "stream",
     "text": [
      "Epoch 1/25\n",
      "556/555 [==============================] - 143s 257ms/step - loss: 0.5139 - accuracy: 0.7470 - val_loss: 0.5971 - val_accuracy: 0.7630\n",
      "Epoch 2/25\n",
      "556/555 [==============================] - 133s 240ms/step - loss: 0.4828 - accuracy: 0.7728 - val_loss: 0.3595 - val_accuracy: 0.7852\n",
      "Epoch 3/25\n",
      "556/555 [==============================] - 138s 248ms/step - loss: 0.4817 - accuracy: 0.7709 - val_loss: 0.3445 - val_accuracy: 0.7912\n",
      "Epoch 4/25\n",
      "556/555 [==============================] - 140s 251ms/step - loss: 0.4599 - accuracy: 0.7863 - val_loss: 0.4401 - val_accuracy: 0.7865\n",
      "Epoch 5/25\n",
      "556/555 [==============================] - 132s 238ms/step - loss: 0.4459 - accuracy: 0.7936 - val_loss: 0.3455 - val_accuracy: 0.8086\n",
      "Epoch 6/25\n",
      "556/555 [==============================] - 133s 239ms/step - loss: 0.4377 - accuracy: 0.8002 - val_loss: 0.6297 - val_accuracy: 0.8103\n",
      "Epoch 7/25\n",
      "556/555 [==============================] - 132s 238ms/step - loss: 0.4247 - accuracy: 0.8037 - val_loss: 0.3629 - val_accuracy: 0.7982\n",
      "Epoch 8/25\n",
      "556/555 [==============================] - 136s 245ms/step - loss: 0.4207 - accuracy: 0.8072 - val_loss: 0.4047 - val_accuracy: 0.8108\n",
      "Epoch 9/25\n",
      "556/555 [==============================] - 142s 256ms/step - loss: 0.4144 - accuracy: 0.8156 - val_loss: 0.4071 - val_accuracy: 0.8220\n",
      "Epoch 10/25\n",
      "556/555 [==============================] - 131s 236ms/step - loss: 0.4041 - accuracy: 0.8158 - val_loss: 0.2657 - val_accuracy: 0.8112\n",
      "Epoch 11/25\n",
      "556/555 [==============================] - 133s 239ms/step - loss: 0.4003 - accuracy: 0.8192 - val_loss: 0.5223 - val_accuracy: 0.8177\n",
      "Epoch 12/25\n",
      "556/555 [==============================] - 135s 243ms/step - loss: 0.3885 - accuracy: 0.8254 - val_loss: 0.3650 - val_accuracy: 0.8234\n",
      "Epoch 13/25\n",
      "556/555 [==============================] - 131s 236ms/step - loss: 0.3904 - accuracy: 0.8247 - val_loss: 0.3300 - val_accuracy: 0.8190\n",
      "Epoch 14/25\n",
      "556/555 [==============================] - 132s 237ms/step - loss: 0.3812 - accuracy: 0.8320 - val_loss: 0.5529 - val_accuracy: 0.8242\n",
      "Epoch 15/25\n",
      "556/555 [==============================] - 135s 243ms/step - loss: 0.3746 - accuracy: 0.8360 - val_loss: 0.3525 - val_accuracy: 0.8164\n",
      "Epoch 16/25\n",
      "556/555 [==============================] - 131s 236ms/step - loss: 0.3783 - accuracy: 0.8280 - val_loss: 0.4353 - val_accuracy: 0.8203\n",
      "Epoch 17/25\n",
      "556/555 [==============================] - 135s 244ms/step - loss: 0.3709 - accuracy: 0.8346 - val_loss: 0.3305 - val_accuracy: 0.8151\n",
      "Epoch 18/25\n",
      "556/555 [==============================] - 131s 236ms/step - loss: 0.3692 - accuracy: 0.8354 - val_loss: 0.3085 - val_accuracy: 0.8277\n",
      "Epoch 19/25\n",
      "556/555 [==============================] - 131s 236ms/step - loss: 0.3616 - accuracy: 0.8404 - val_loss: 0.3629 - val_accuracy: 0.8351\n",
      "Epoch 20/25\n",
      "556/555 [==============================] - 130s 234ms/step - loss: 0.3634 - accuracy: 0.8406 - val_loss: 0.4306 - val_accuracy: 0.8351\n",
      "Epoch 21/25\n",
      "556/555 [==============================] - 135s 244ms/step - loss: 0.3566 - accuracy: 0.8432 - val_loss: 0.4745 - val_accuracy: 0.8121\n",
      "Epoch 22/25\n",
      "556/555 [==============================] - 132s 237ms/step - loss: 0.3552 - accuracy: 0.8409 - val_loss: 0.1721 - val_accuracy: 0.8229\n",
      "Epoch 23/25\n",
      "556/555 [==============================] - 132s 238ms/step - loss: 0.3548 - accuracy: 0.8422 - val_loss: 0.2868 - val_accuracy: 0.8333\n",
      "Epoch 24/25\n",
      "556/555 [==============================] - 132s 238ms/step - loss: 0.3453 - accuracy: 0.8460 - val_loss: 0.2257 - val_accuracy: 0.8364\n",
      "Epoch 25/25\n",
      "556/555 [==============================] - 132s 238ms/step - loss: 0.3420 - accuracy: 0.8493 - val_loss: 0.3821 - val_accuracy: 0.8364\n"
     ]
    },
    {
     "data": {
      "text/plain": [
       "<keras.callbacks.callbacks.History at 0x26ccc8acac8>"
      ]
     },
     "execution_count": 23,
     "metadata": {},
     "output_type": "execute_result"
    }
   ],
   "source": [
    "model.fit_generator(training_set, steps_per_epoch = 19998/36, epochs = 25,\n",
    "                    validation_data = testing_set, validation_steps = 2880/40)"
   ]
  },
  {
   "cell_type": "code",
   "execution_count": 25,
   "metadata": {},
   "outputs": [
    {
     "name": "stdout",
     "output_type": "stream",
     "text": [
      "Accuracy Reached : 84.93 %\n"
     ]
    }
   ],
   "source": [
    "from sklearn.metrics import accuracy_score\n",
    "print(\"Accuracy Reached : 84.93 %\")"
   ]
  },
  {
   "cell_type": "code",
   "execution_count": null,
   "metadata": {},
   "outputs": [],
   "source": []
  }
 ],
 "metadata": {
  "kernelspec": {
   "display_name": "Python 3",
   "language": "python",
   "name": "python3"
  },
  "language_info": {
   "codemirror_mode": {
    "name": "ipython",
    "version": 3
   },
   "file_extension": ".py",
   "mimetype": "text/x-python",
   "name": "python",
   "nbconvert_exporter": "python",
   "pygments_lexer": "ipython3",
   "version": "3.7.6"
  }
 },
 "nbformat": 4,
 "nbformat_minor": 4
}
